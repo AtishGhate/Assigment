{
 "cells": [
  {
   "cell_type": "markdown",
   "id": "e779abff-b853-4461-a8e9-d4cd735a6763",
   "metadata": {},
   "source": [
    "Q1. What are the characteristics of the tuples? Is tuple immutable?"
   ]
  },
  {
   "cell_type": "markdown",
   "id": "15200b93-11e2-46fb-b296-08e88f1cc8e8",
   "metadata": {},
   "source": [
    "They are indexed\n",
    "Tuples are ordered\n",
    "These are immutable\n",
    "They can contain duplicate items\n",
    "yes tuple is immutable"
   ]
  },
  {
   "cell_type": "markdown",
   "id": "ada81ffd-bb25-4da9-aca9-15183aff0fd2",
   "metadata": {},
   "source": [
    "Q2. What are the two tuple methods in python? Give an example of each method. Give a reason why\n",
    "tuples have only two in-built methods as compared to Lists."
   ]
  },
  {
   "cell_type": "markdown",
   "id": "049e5fb3-d014-4c56-b549-9ab8b8977b47",
   "metadata": {},
   "source": [
    "There are only two tuple methods count() and index() that a tuple object can call.\n",
    "\n",
    "vowels = ('a', 'e', 'i', 'o', 'i', 'u')\n",
    "count = vowels.count('i')\n",
    "print(count) \n",
    "\n",
    "vowels = ('a', 'e', 'i', 'o', 'u')\n",
    "index = vowels.index('e')\n",
    "print(index)"
   ]
  },
  {
   "cell_type": "markdown",
   "id": "805b325b-21cb-4cd6-b1ce-e0251c3bb9c3",
   "metadata": {},
   "source": [
    "Q3. Which collection datatypes in python do not allow duplicate items? Write a code using a set to remove\n",
    "duplicates from the given list.\n",
    "List = [1, 1, 1, 2, 1, 3, 1, 4, 2, 1, 2, 2, 2, 3, 2, 4, 3, 1, 3, 2, 3, 3, 3, 4, 4, 1, 4, 2, 4, 3, 4, 4]"
   ]
  },
  {
   "cell_type": "code",
   "execution_count": null,
   "id": "6af9ebc8-7b67-4d74-aecb-df6314f65d4a",
   "metadata": {},
   "outputs": [],
   "source": [
    "Set and Dictionary  datatypes in python do not allow duplicate items. "
   ]
  },
  {
   "cell_type": "code",
   "execution_count": 11,
   "id": "e18c1d59-8524-422f-b990-3eb562b915bf",
   "metadata": {},
   "outputs": [
    {
     "name": "stdout",
     "output_type": "stream",
     "text": [
      "{1, 2, 3, 4}\n"
     ]
    }
   ],
   "source": [
    "List = {1, 1, 1, 2, 1, 3, 1, 4, 2, 1, 2, 2, 2, 3, 2, 4, 3, 1, 3, 2, 3, 3, 3, 4, 4, 1, 4, 2, 4, 3, 4, 4}\n",
    "print(List)"
   ]
  },
  {
   "cell_type": "markdown",
   "id": "ee1c9e71-df8f-4543-8d99-a89a58819022",
   "metadata": {},
   "source": [
    "Q4. Explain the difference between the union() and update() methods for a set. Give an example of\n",
    "each method."
   ]
  },
  {
   "cell_type": "markdown",
   "id": "b0f0d9fc-9a4b-43c0-9379-f6a268eca86f",
   "metadata": {},
   "source": [
    "union () method create and return a new set,  update () method updates the set "
   ]
  },
  {
   "cell_type": "markdown",
   "id": "4708b56c-b915-4757-b6a6-6c8687b9e83d",
   "metadata": {},
   "source": [
    "Q5. What is a dictionary? Give an example. Also, state whether a dictionary is ordered or unordered."
   ]
  },
  {
   "cell_type": "markdown",
   "id": "86da970b-d736-4652-8013-ceb329aaa3fb",
   "metadata": {},
   "source": [
    "Dictionaries are mutable, unordered collection of elements in the form of Key-Value Pairs which are enclosed in curly braces “. \n",
    "Example of Dictionary: A = {1 : “One”, 2 : “Two”, 3 : “Three”} B = {“A” : “Apple”, “B” : “Ball”, “C” : “Cat”}"
   ]
  },
  {
   "cell_type": "markdown",
   "id": "e4886860-be36-4f64-aa5d-593913731cf6",
   "metadata": {},
   "source": [
    "Q6. Can we create a nested dictionary? If so, please give an example by creating a simple one-level\n",
    "nested dictionary."
   ]
  },
  {
   "cell_type": "markdown",
   "id": "da86d28c-093e-4f38-9a02-6f804ad69495",
   "metadata": {},
   "source": [
    "yes we can created ,\n",
    "nested_dict = { 'dictA': {'key_1': 'value_1'},\n",
    "                'dictB': {'key_2': 'value_2'}}"
   ]
  },
  {
   "cell_type": "markdown",
   "id": "d0d64e48-9fe9-4d05-8bc7-d931d13d03d2",
   "metadata": {},
   "source": [
    "Q7. Using setdefault() method, create key named topics in the given dictionary and also add the value of\n",
    "the key as this list ['Python', 'Machine Learning’, 'Deep Learning']\n",
    "\n",
    "dict1 = {'language' : 'Python', 'course': 'Data Science Masters'}"
   ]
  },
  {
   "cell_type": "code",
   "execution_count": 6,
   "id": "ccad9f32-be35-467e-b995-743a101cc87c",
   "metadata": {},
   "outputs": [
    {
     "name": "stdout",
     "output_type": "stream",
     "text": [
      "Machine Learning\n"
     ]
    }
   ],
   "source": [
    "dict1 = {'language' : 'Python', 'course': 'Data Science Masters'}\n",
    "\n",
    "x = dict1.setdefault(\"Python\", \"Machine Learning\" )\n",
    "\n",
    "print(x)\n"
   ]
  },
  {
   "cell_type": "markdown",
   "id": "429f816b-39f9-48a8-bdcd-b6953e18f2bb",
   "metadata": {},
   "source": [
    "Q8. What are the three view objects in dictionaries? Use the three in-built methods in python to display\n",
    "these three view objects for the given dictionary.\n",
    "dict1 = {'Sport': 'Cricket' , 'Teams': ['India', 'Australia', 'England', 'South Africa', 'Sri Lanka', 'New Zealand']}"
   ]
  },
  {
   "cell_type": "code",
   "execution_count": null,
   "id": "e8e20023-0d78-4686-b596-1c47472640d3",
   "metadata": {},
   "outputs": [],
   "source": [
    "keys, values and items"
   ]
  }
 ],
 "metadata": {
  "kernelspec": {
   "display_name": "Python 3 (ipykernel)",
   "language": "python",
   "name": "python3"
  },
  "language_info": {
   "codemirror_mode": {
    "name": "ipython",
    "version": 3
   },
   "file_extension": ".py",
   "mimetype": "text/x-python",
   "name": "python",
   "nbconvert_exporter": "python",
   "pygments_lexer": "ipython3",
   "version": "3.10.8"
  }
 },
 "nbformat": 4,
 "nbformat_minor": 5
}
